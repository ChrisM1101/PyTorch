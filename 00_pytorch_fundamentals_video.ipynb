{
  "nbformat": 4,
  "nbformat_minor": 0,
  "metadata": {
    "colab": {
      "provenance": [],
      "include_colab_link": true
    },
    "kernelspec": {
      "name": "python3",
      "display_name": "Python 3"
    },
    "language_info": {
      "name": "python"
    }
  },
  "cells": [
    {
      "cell_type": "markdown",
      "metadata": {
        "id": "view-in-github",
        "colab_type": "text"
      },
      "source": [
        "<a href=\"https://colab.research.google.com/github/ChrisM1101/PyTorch/blob/main/00_pytorch_fundamentals_video.ipynb\" target=\"_parent\"><img src=\"https://colab.research.google.com/assets/colab-badge.svg\" alt=\"Open In Colab\"/></a>"
      ]
    },
    {
      "cell_type": "markdown",
      "source": [
        "## 00. PyTorch Fundamentals\n",
        "\n",
        "Resource notebook: https://www.learnpytorch.io/00_pytorch_fundamentals/"
      ],
      "metadata": {
        "id": "7sXufTDbQ3p9"
      }
    },
    {
      "cell_type": "code",
      "execution_count": 1,
      "metadata": {
        "colab": {
          "base_uri": "https://localhost:8080/"
        },
        "id": "YhUhPamSPmVJ",
        "outputId": "df942d90-beb8-4fd9-ed8f-e6abc864f580"
      },
      "outputs": [
        {
          "output_type": "stream",
          "name": "stdout",
          "text": [
            "False\n",
            "2.5.1+cu121\n"
          ]
        }
      ],
      "source": [
        "import torch\n",
        "import pandas as pd\n",
        "import numpy as np\n",
        "import matplotlib.pyplot as plt\n",
        "print(torch.cuda.is_available()) # will return True if PyTorch can use the GPU\n",
        "print(torch.__version__)"
      ]
    },
    {
      "cell_type": "markdown",
      "source": [
        "## Introduction to Tensors\n",
        "\n",
        "### Creating tensors\n",
        "\n",
        "PyTorch tensors are created using  'torch.Tensor()' = https://pytorch.org/docs/stable/tensors.html"
      ],
      "metadata": {
        "id": "1XXpihw3QWAG"
      }
    },
    {
      "cell_type": "code",
      "source": [
        "# scalar\n",
        "scalar = torch.tensor(7)\n",
        "scalar"
      ],
      "metadata": {
        "colab": {
          "base_uri": "https://localhost:8080/"
        },
        "id": "UQvX2tT8qLoT",
        "outputId": "7cbd9cba-cd59-4b5b-c34d-f57c2f25e3ad"
      },
      "execution_count": 2,
      "outputs": [
        {
          "output_type": "execute_result",
          "data": {
            "text/plain": [
              "tensor(7)"
            ]
          },
          "metadata": {},
          "execution_count": 2
        }
      ]
    },
    {
      "cell_type": "code",
      "source": [
        "scalar.ndim"
      ],
      "metadata": {
        "colab": {
          "base_uri": "https://localhost:8080/"
        },
        "id": "GLgcK1ZFq00j",
        "outputId": "d1267094-dd2f-4cb6-b775-abdc3359547d"
      },
      "execution_count": 3,
      "outputs": [
        {
          "output_type": "execute_result",
          "data": {
            "text/plain": [
              "0"
            ]
          },
          "metadata": {},
          "execution_count": 3
        }
      ]
    },
    {
      "cell_type": "code",
      "source": [
        "scalar.shape"
      ],
      "metadata": {
        "id": "JG380njVuLNB",
        "outputId": "87fc10b7-6ed4-4f26-e7ff-58919653bf9f",
        "colab": {
          "base_uri": "https://localhost:8080/"
        }
      },
      "execution_count": 11,
      "outputs": [
        {
          "output_type": "execute_result",
          "data": {
            "text/plain": [
              "torch.Size([])"
            ]
          },
          "metadata": {},
          "execution_count": 11
        }
      ]
    },
    {
      "cell_type": "code",
      "source": [
        "# Get tensor back as python int\n",
        "scalar.item()"
      ],
      "metadata": {
        "id": "rYvLK9u0tEoa",
        "outputId": "7dd3fb98-05c7-4a70-b976-f7dab1d3951c",
        "colab": {
          "base_uri": "https://localhost:8080/"
        }
      },
      "execution_count": 4,
      "outputs": [
        {
          "output_type": "execute_result",
          "data": {
            "text/plain": [
              "7"
            ]
          },
          "metadata": {},
          "execution_count": 4
        }
      ]
    },
    {
      "cell_type": "code",
      "source": [
        "# vector\n",
        "vector = torch.tensor([7, 7])\n",
        "vector"
      ],
      "metadata": {
        "id": "PamV_b6ZtQxr",
        "outputId": "044276cc-2a16-4930-9571-a29456430383",
        "colab": {
          "base_uri": "https://localhost:8080/"
        }
      },
      "execution_count": 8,
      "outputs": [
        {
          "output_type": "execute_result",
          "data": {
            "text/plain": [
              "tensor([7, 7])"
            ]
          },
          "metadata": {},
          "execution_count": 8
        }
      ]
    },
    {
      "cell_type": "code",
      "source": [
        "vector.ndim"
      ],
      "metadata": {
        "id": "kgxdd7EgtfLC",
        "outputId": "2a05b92d-6f3d-455e-8d7b-56aba29fece2",
        "colab": {
          "base_uri": "https://localhost:8080/"
        }
      },
      "execution_count": 9,
      "outputs": [
        {
          "output_type": "execute_result",
          "data": {
            "text/plain": [
              "1"
            ]
          },
          "metadata": {},
          "execution_count": 9
        }
      ]
    },
    {
      "cell_type": "code",
      "source": [
        "vector.shape"
      ],
      "metadata": {
        "id": "Wq19eQ0Ft0AV",
        "outputId": "ebbd20fd-9f5e-48fa-b532-ff76f7e9e071",
        "colab": {
          "base_uri": "https://localhost:8080/"
        }
      },
      "execution_count": 10,
      "outputs": [
        {
          "output_type": "execute_result",
          "data": {
            "text/plain": [
              "torch.Size([2])"
            ]
          },
          "metadata": {},
          "execution_count": 10
        }
      ]
    },
    {
      "cell_type": "code",
      "source": [
        "# MATRIX\n",
        "MATRIX = torch.tensor([[5, 6],\n",
        "                       [7, 8]])\n",
        "MATRIX"
      ],
      "metadata": {
        "id": "YAn08rj9t-vx",
        "outputId": "21cfc825-43bc-409b-ad76-acf2fc37bc3c",
        "colab": {
          "base_uri": "https://localhost:8080/"
        }
      },
      "execution_count": 15,
      "outputs": [
        {
          "output_type": "execute_result",
          "data": {
            "text/plain": [
              "tensor([[5, 6],\n",
              "        [7, 8]])"
            ]
          },
          "metadata": {},
          "execution_count": 15
        }
      ]
    },
    {
      "cell_type": "code",
      "source": [
        "MATRIX.ndim"
      ],
      "metadata": {
        "id": "5KcwwwXAvR0L",
        "outputId": "937a32bb-cac2-4199-d8e3-df3c3f3caf4a",
        "colab": {
          "base_uri": "https://localhost:8080/"
        }
      },
      "execution_count": 17,
      "outputs": [
        {
          "output_type": "execute_result",
          "data": {
            "text/plain": [
              "2"
            ]
          },
          "metadata": {},
          "execution_count": 17
        }
      ]
    },
    {
      "cell_type": "code",
      "source": [
        "MATRIX[1]"
      ],
      "metadata": {
        "id": "mbdTq0zjvfHj",
        "outputId": "ddffb7c7-ef9a-4a8f-eee2-b8c53652855c",
        "colab": {
          "base_uri": "https://localhost:8080/"
        }
      },
      "execution_count": 20,
      "outputs": [
        {
          "output_type": "execute_result",
          "data": {
            "text/plain": [
              "tensor([7, 8])"
            ]
          },
          "metadata": {},
          "execution_count": 20
        }
      ]
    },
    {
      "cell_type": "code",
      "source": [
        "MATRIX.shape"
      ],
      "metadata": {
        "id": "0bwk9kydvpqs",
        "outputId": "a15c2445-f799-4241-e90b-18ea9d835d33",
        "colab": {
          "base_uri": "https://localhost:8080/"
        }
      },
      "execution_count": 21,
      "outputs": [
        {
          "output_type": "execute_result",
          "data": {
            "text/plain": [
              "torch.Size([2, 2])"
            ]
          },
          "metadata": {},
          "execution_count": 21
        }
      ]
    },
    {
      "cell_type": "code",
      "source": [
        "# TENSOR\n",
        "TENSOR = torch.tensor([[[1, 2, 3],\n",
        "                        [4, 5, 6],\n",
        "                        [7, 8, 9]]])\n",
        "TENSOR"
      ],
      "metadata": {
        "id": "TO94-ig1v6Rq",
        "outputId": "783cb3c3-f31f-488f-ff1a-e77600b734b1",
        "colab": {
          "base_uri": "https://localhost:8080/"
        }
      },
      "execution_count": 25,
      "outputs": [
        {
          "output_type": "execute_result",
          "data": {
            "text/plain": [
              "tensor([[[1, 2, 3],\n",
              "         [4, 5, 6],\n",
              "         [7, 8, 9]]])"
            ]
          },
          "metadata": {},
          "execution_count": 25
        }
      ]
    },
    {
      "cell_type": "code",
      "source": [
        "TENSOR.ndim"
      ],
      "metadata": {
        "id": "ieoF2P5HwvZI",
        "outputId": "ea5dabf4-ddce-4cc0-d71b-699f54fa5ca7",
        "colab": {
          "base_uri": "https://localhost:8080/"
        }
      },
      "execution_count": 26,
      "outputs": [
        {
          "output_type": "execute_result",
          "data": {
            "text/plain": [
              "3"
            ]
          },
          "metadata": {},
          "execution_count": 26
        }
      ]
    },
    {
      "cell_type": "code",
      "source": [
        "TENSOR.shape"
      ],
      "metadata": {
        "id": "-whrMq51xFJf",
        "outputId": "c59578c8-5003-421f-ac6b-354bdf7f7bc5",
        "colab": {
          "base_uri": "https://localhost:8080/"
        }
      },
      "execution_count": 27,
      "outputs": [
        {
          "output_type": "execute_result",
          "data": {
            "text/plain": [
              "torch.Size([1, 3, 3])"
            ]
          },
          "metadata": {},
          "execution_count": 27
        }
      ]
    },
    {
      "cell_type": "code",
      "source": [
        "TENSOR[0]"
      ],
      "metadata": {
        "id": "N-ooIBK-xJaA",
        "outputId": "ac45532f-981e-4813-97eb-8e5c1d0e7969",
        "colab": {
          "base_uri": "https://localhost:8080/"
        }
      },
      "execution_count": 36,
      "outputs": [
        {
          "output_type": "execute_result",
          "data": {
            "text/plain": [
              "tensor([[1, 2, 3],\n",
              "        [4, 5, 6],\n",
              "        [7, 8, 9]])"
            ]
          },
          "metadata": {},
          "execution_count": 36
        }
      ]
    },
    {
      "cell_type": "code",
      "source": [
        "TENSOR2 = torch.tensor([[[[[1, 2, 3, 4, 5, 6],\n",
        "            [7, 8, 9, 10, 11, 12],\n",
        "             [13, 14, 15, 16, 17, 18],\n",
        "             [19, 20, 21, 22, 23, 24]],\n",
        "            [[11, 22, 33, 44, 55, 66],\n",
        "             [111, 222, 333, 444, 555, 666],\n",
        "             [1111, 2222, 3333, 4444, 5555, 6666],\n",
        "             [11111, 22222, 33333, 44444, 55555, 66666]],\n",
        "            [[0, 0, 0, 0, 0, 0],\n",
        "             [77, 88, 99, 00, 11, 22],\n",
        "             [777, 888, 999, 000, 111, 222],\n",
        "             [7777, 8888, 9999, 0000, 1111, 2222]]]]])\n",
        "TENSOR2"
      ],
      "metadata": {
        "id": "jC3E9tLbxgBr",
        "outputId": "23d0841f-6f9f-486e-e7c6-310bca3b1084",
        "colab": {
          "base_uri": "https://localhost:8080/"
        }
      },
      "execution_count": 51,
      "outputs": [
        {
          "output_type": "execute_result",
          "data": {
            "text/plain": [
              "tensor([[[[[    1,     2,     3,     4,     5,     6],\n",
              "           [    7,     8,     9,    10,    11,    12],\n",
              "           [   13,    14,    15,    16,    17,    18],\n",
              "           [   19,    20,    21,    22,    23,    24]],\n",
              "\n",
              "          [[   11,    22,    33,    44,    55,    66],\n",
              "           [  111,   222,   333,   444,   555,   666],\n",
              "           [ 1111,  2222,  3333,  4444,  5555,  6666],\n",
              "           [11111, 22222, 33333, 44444, 55555, 66666]],\n",
              "\n",
              "          [[    0,     0,     0,     0,     0,     0],\n",
              "           [   77,    88,    99,     0,    11,    22],\n",
              "           [  777,   888,   999,     0,   111,   222],\n",
              "           [ 7777,  8888,  9999,     0,  1111,  2222]]]]])"
            ]
          },
          "metadata": {},
          "execution_count": 51
        }
      ]
    },
    {
      "cell_type": "code",
      "source": [
        "TENSOR2.ndim"
      ],
      "metadata": {
        "id": "HeQyfJds3UO3",
        "outputId": "7f3be99c-6c27-4424-b669-5c703c2d328d",
        "colab": {
          "base_uri": "https://localhost:8080/"
        }
      },
      "execution_count": 52,
      "outputs": [
        {
          "output_type": "execute_result",
          "data": {
            "text/plain": [
              "5"
            ]
          },
          "metadata": {},
          "execution_count": 52
        }
      ]
    },
    {
      "cell_type": "code",
      "source": [
        "TENSOR2.shape"
      ],
      "metadata": {
        "id": "sAlSWPm687HV",
        "outputId": "0511278e-c4cd-459a-987a-ff822db08694",
        "colab": {
          "base_uri": "https://localhost:8080/"
        }
      },
      "execution_count": 53,
      "outputs": [
        {
          "output_type": "execute_result",
          "data": {
            "text/plain": [
              "torch.Size([1, 1, 3, 4, 6])"
            ]
          },
          "metadata": {},
          "execution_count": 53
        }
      ]
    },
    {
      "cell_type": "code",
      "source": [
        "TENSOR2[0][0][1][3][2]"
      ],
      "metadata": {
        "id": "qc3u2Ro28_te",
        "outputId": "4af6d69b-1a36-4a55-8ac1-9550ee25b428",
        "colab": {
          "base_uri": "https://localhost:8080/"
        }
      },
      "execution_count": 64,
      "outputs": [
        {
          "output_type": "execute_result",
          "data": {
            "text/plain": [
              "tensor(33333)"
            ]
          },
          "metadata": {},
          "execution_count": 64
        }
      ]
    },
    {
      "cell_type": "code",
      "source": [],
      "metadata": {
        "id": "a4xKwUNJ9d4l"
      },
      "execution_count": null,
      "outputs": []
    }
  ]
}